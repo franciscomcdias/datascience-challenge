{
 "cells": [
  {
   "cell_type": "code",
   "execution_count": 1,
   "metadata": {},
   "outputs": [],
   "source": [
    "%matplotlib inline\n",
    "\n",
    "import gc\n",
    "import re\n",
    "import nltk\n",
    "from  nltk import pos_tag\n",
    "from nltk.stem import SnowballStemmer\n",
    "from nltk.corpus import stopwords\n",
    "\n",
    "import matplotlib.pyplot as plt\n",
    "\n",
    "import pandas as pd\n",
    "import seaborn as sns\n",
    "import numpy as np\n",
    "\n",
    "from sklearn.model_selection import train_test_split\n",
    "from sklearn.utils import resample\n",
    "\n",
    "import langdetect\n",
    "import warnings\n",
    "\n",
    "warnings.filterwarnings('ignore')\n",
    "\n",
    "# code starts here!\n",
    "stop_words_en = set(stopwords.words(\"english\"))\n",
    "stemmer_en = SnowballStemmer('english')\n",
    "\n",
    "SOLUTION_FOR_EVERYTHING = 42\n",
    "\n",
    "# %env CUDA_VISIBLE_DEVICES='0'"
   ]
  },
  {
   "cell_type": "markdown",
   "metadata": {},
   "source": [
    "# Data Exploration and Pre-processing"
   ]
  },
  {
   "cell_type": "markdown",
   "metadata": {},
   "source": [
    "## Size of the dataset\n"
   ]
  },
  {
   "cell_type": "code",
   "execution_count": 2,
   "metadata": {
    "scrolled": false
   },
   "outputs": [
    {
     "data": {
      "text/plain": [
       "91580"
      ]
     },
     "execution_count": 2,
     "metadata": {},
     "output_type": "execute_result"
    }
   ],
   "source": [
    "labelled_dataset = pd.read_pickle(\"data/labelled_dataset.pickle\")\n",
    "\n",
    "# labelled_dataset = labelled_dataset.truncate(after=200)\n",
    "\n",
    "labelled_dataset.shape[0]"
   ]
  },
  {
   "cell_type": "markdown",
   "metadata": {},
   "source": [
    "**Sample**"
   ]
  },
  {
   "cell_type": "code",
   "execution_count": 3,
   "metadata": {},
   "outputs": [
    {
     "data": {
      "text/html": [
       "<div>\n",
       "<style scoped>\n",
       "    .dataframe tbody tr th:only-of-type {\n",
       "        vertical-align: middle;\n",
       "    }\n",
       "\n",
       "    .dataframe tbody tr th {\n",
       "        vertical-align: top;\n",
       "    }\n",
       "\n",
       "    .dataframe thead th {\n",
       "        text-align: right;\n",
       "    }\n",
       "</style>\n",
       "<table border=\"1\" class=\"dataframe\">\n",
       "  <thead>\n",
       "    <tr style=\"text-align: right;\">\n",
       "      <th></th>\n",
       "      <th>text</th>\n",
       "      <th>labelmax</th>\n",
       "    </tr>\n",
       "  </thead>\n",
       "  <tbody>\n",
       "    <tr>\n",
       "      <th>0</th>\n",
       "      <td>Pros - The people who work here are brilliant ...</td>\n",
       "      <td>customer</td>\n",
       "    </tr>\n",
       "    <tr>\n",
       "      <th>1</th>\n",
       "      <td>Pros Start-up vibes Fast growing company Tech-...</td>\n",
       "      <td>customer</td>\n",
       "    </tr>\n",
       "    <tr>\n",
       "      <th>2</th>\n",
       "      <td>Pros The team is great, I love the ambition of...</td>\n",
       "      <td>collaboration</td>\n",
       "    </tr>\n",
       "    <tr>\n",
       "      <th>3</th>\n",
       "      <td>Pros The company is constantly growing, and at...</td>\n",
       "      <td>adaptability</td>\n",
       "    </tr>\n",
       "    <tr>\n",
       "      <th>4</th>\n",
       "      <td>Pros Cool office. Friendly people. Good atmosp...</td>\n",
       "      <td>collaboration</td>\n",
       "    </tr>\n",
       "  </tbody>\n",
       "</table>\n",
       "</div>"
      ],
      "text/plain": [
       "                                                text       labelmax\n",
       "0  Pros - The people who work here are brilliant ...       customer\n",
       "1  Pros Start-up vibes Fast growing company Tech-...       customer\n",
       "2  Pros The team is great, I love the ambition of...  collaboration\n",
       "3  Pros The company is constantly growing, and at...   adaptability\n",
       "4  Pros Cool office. Friendly people. Good atmosp...  collaboration"
      ]
     },
     "execution_count": 3,
     "metadata": {},
     "output_type": "execute_result"
    }
   ],
   "source": [
    "labelled_dataset.head()"
   ]
  },
  {
   "cell_type": "code",
   "execution_count": 4,
   "metadata": {},
   "outputs": [
    {
     "data": {
      "text/html": [
       "<div>\n",
       "<style scoped>\n",
       "    .dataframe tbody tr th:only-of-type {\n",
       "        vertical-align: middle;\n",
       "    }\n",
       "\n",
       "    .dataframe tbody tr th {\n",
       "        vertical-align: top;\n",
       "    }\n",
       "\n",
       "    .dataframe thead th {\n",
       "        text-align: right;\n",
       "    }\n",
       "</style>\n",
       "<table border=\"1\" class=\"dataframe\">\n",
       "  <thead>\n",
       "    <tr style=\"text-align: right;\">\n",
       "      <th></th>\n",
       "      <th>text</th>\n",
       "      <th>labelmax</th>\n",
       "    </tr>\n",
       "  </thead>\n",
       "  <tbody>\n",
       "    <tr>\n",
       "      <th>count</th>\n",
       "      <td>91580</td>\n",
       "      <td>91580</td>\n",
       "    </tr>\n",
       "    <tr>\n",
       "      <th>unique</th>\n",
       "      <td>91132</td>\n",
       "      <td>7</td>\n",
       "    </tr>\n",
       "    <tr>\n",
       "      <th>top</th>\n",
       "      <td>Pros Favorable environment for learning and gr...</td>\n",
       "      <td>customer</td>\n",
       "    </tr>\n",
       "    <tr>\n",
       "      <th>freq</th>\n",
       "      <td>2</td>\n",
       "      <td>26981</td>\n",
       "    </tr>\n",
       "  </tbody>\n",
       "</table>\n",
       "</div>"
      ],
      "text/plain": [
       "                                                     text  labelmax\n",
       "count                                               91580     91580\n",
       "unique                                              91132         7\n",
       "top     Pros Favorable environment for learning and gr...  customer\n",
       "freq                                                    2     26981"
      ]
     },
     "execution_count": 4,
     "metadata": {},
     "output_type": "execute_result"
    }
   ],
   "source": [
    "labelled_dataset.describe()"
   ]
  },
  {
   "cell_type": "code",
   "execution_count": 5,
   "metadata": {},
   "outputs": [
    {
     "data": {
      "text/plain": [
       "customer         26981\n",
       "collaboration    21067\n",
       "result           18948\n",
       "adaptability     17204\n",
       "detail            4030\n",
       "integrity         2815\n",
       "null               535\n",
       "Name: labelmax, dtype: int64"
      ]
     },
     "execution_count": 5,
     "metadata": {},
     "output_type": "execute_result"
    }
   ],
   "source": [
    "labelled_dataset.labelmax.value_counts()"
   ]
  },
  {
   "cell_type": "code",
   "execution_count": 6,
   "metadata": {},
   "outputs": [
    {
     "data": {
      "text/html": [
       "<div>\n",
       "<style scoped>\n",
       "    .dataframe tbody tr th:only-of-type {\n",
       "        vertical-align: middle;\n",
       "    }\n",
       "\n",
       "    .dataframe tbody tr th {\n",
       "        vertical-align: top;\n",
       "    }\n",
       "\n",
       "    .dataframe thead th {\n",
       "        text-align: right;\n",
       "    }\n",
       "</style>\n",
       "<table border=\"1\" class=\"dataframe\">\n",
       "  <thead>\n",
       "    <tr style=\"text-align: right;\">\n",
       "      <th></th>\n",
       "      <th>text</th>\n",
       "      <th>labelmax</th>\n",
       "    </tr>\n",
       "  </thead>\n",
       "  <tbody>\n",
       "    <tr>\n",
       "      <th>count</th>\n",
       "      <td>91045</td>\n",
       "      <td>91045</td>\n",
       "    </tr>\n",
       "    <tr>\n",
       "      <th>unique</th>\n",
       "      <td>90602</td>\n",
       "      <td>6</td>\n",
       "    </tr>\n",
       "    <tr>\n",
       "      <th>top</th>\n",
       "      <td>Pros Favorable environment for learning and gr...</td>\n",
       "      <td>customer</td>\n",
       "    </tr>\n",
       "    <tr>\n",
       "      <th>freq</th>\n",
       "      <td>2</td>\n",
       "      <td>26981</td>\n",
       "    </tr>\n",
       "  </tbody>\n",
       "</table>\n",
       "</div>"
      ],
      "text/plain": [
       "                                                     text  labelmax\n",
       "count                                               91045     91045\n",
       "unique                                              90602         6\n",
       "top     Pros Favorable environment for learning and gr...  customer\n",
       "freq                                                    2     26981"
      ]
     },
     "execution_count": 6,
     "metadata": {},
     "output_type": "execute_result"
    }
   ],
   "source": [
    "labelled_dataset = labelled_dataset[labelled_dataset.labelmax != \"null\"]\n",
    "labelled_dataset.describe()"
   ]
  },
  {
   "cell_type": "code",
   "execution_count": 7,
   "metadata": {},
   "outputs": [
    {
     "data": {
      "text/plain": [
       "['adaptability', 'collaboration', 'customer', 'detail', 'integrity', 'result']"
      ]
     },
     "execution_count": 7,
     "metadata": {},
     "output_type": "execute_result"
    }
   ],
   "source": [
    "classes_array = sorted(list(labelled_dataset.labelmax.unique()))\n",
    "classes_array"
   ]
  },
  {
   "cell_type": "code",
   "execution_count": 8,
   "metadata": {},
   "outputs": [
    {
     "data": {
      "text/html": [
       "<div>\n",
       "<style scoped>\n",
       "    .dataframe tbody tr th:only-of-type {\n",
       "        vertical-align: middle;\n",
       "    }\n",
       "\n",
       "    .dataframe tbody tr th {\n",
       "        vertical-align: top;\n",
       "    }\n",
       "\n",
       "    .dataframe thead th {\n",
       "        text-align: right;\n",
       "    }\n",
       "</style>\n",
       "<table border=\"1\" class=\"dataframe\">\n",
       "  <thead>\n",
       "    <tr style=\"text-align: right;\">\n",
       "      <th></th>\n",
       "      <th>text</th>\n",
       "      <th>labelmax</th>\n",
       "    </tr>\n",
       "  </thead>\n",
       "  <tbody>\n",
       "    <tr>\n",
       "      <th>count</th>\n",
       "      <td>90602</td>\n",
       "      <td>90602</td>\n",
       "    </tr>\n",
       "    <tr>\n",
       "      <th>unique</th>\n",
       "      <td>90602</td>\n",
       "      <td>6</td>\n",
       "    </tr>\n",
       "    <tr>\n",
       "      <th>top</th>\n",
       "      <td>Pros Five9 is growing at an extremely quick pa...</td>\n",
       "      <td>customer</td>\n",
       "    </tr>\n",
       "    <tr>\n",
       "      <th>freq</th>\n",
       "      <td>1</td>\n",
       "      <td>26851</td>\n",
       "    </tr>\n",
       "  </tbody>\n",
       "</table>\n",
       "</div>"
      ],
      "text/plain": [
       "                                                     text  labelmax\n",
       "count                                               90602     90602\n",
       "unique                                              90602         6\n",
       "top     Pros Five9 is growing at an extremely quick pa...  customer\n",
       "freq                                                    1     26851"
      ]
     },
     "execution_count": 8,
     "metadata": {},
     "output_type": "execute_result"
    }
   ],
   "source": [
    "labelled_dataset = labelled_dataset.drop_duplicates()\n",
    "labelled_dataset.describe()"
   ]
  },
  {
   "cell_type": "markdown",
   "metadata": {},
   "source": [
    "## Removing non-English texts\n",
    "By chance, I found that are also texts in German, French, Spanish, and perhaps in some other languages. For the sake of performance, it will only be trained (and accept) English texts. Further improvements can change this.\n",
    "\n",
    "There are some Python libraries that can help us on the task of langauge classification:"
   ]
  },
  {
   "cell_type": "code",
   "execution_count": 9,
   "metadata": {},
   "outputs": [
    {
     "data": {
      "text/html": [
       "<div>\n",
       "<style scoped>\n",
       "    .dataframe tbody tr th:only-of-type {\n",
       "        vertical-align: middle;\n",
       "    }\n",
       "\n",
       "    .dataframe tbody tr th {\n",
       "        vertical-align: top;\n",
       "    }\n",
       "\n",
       "    .dataframe thead th {\n",
       "        text-align: right;\n",
       "    }\n",
       "</style>\n",
       "<table border=\"1\" class=\"dataframe\">\n",
       "  <thead>\n",
       "    <tr style=\"text-align: right;\">\n",
       "      <th></th>\n",
       "      <th>text</th>\n",
       "      <th>labelmax</th>\n",
       "    </tr>\n",
       "  </thead>\n",
       "  <tbody>\n",
       "    <tr>\n",
       "      <th>count</th>\n",
       "      <td>88264</td>\n",
       "      <td>88264</td>\n",
       "    </tr>\n",
       "    <tr>\n",
       "      <th>unique</th>\n",
       "      <td>88264</td>\n",
       "      <td>6</td>\n",
       "    </tr>\n",
       "    <tr>\n",
       "      <th>top</th>\n",
       "      <td>Pros Five9 is growing at an extremely quick pa...</td>\n",
       "      <td>customer</td>\n",
       "    </tr>\n",
       "    <tr>\n",
       "      <th>freq</th>\n",
       "      <td>1</td>\n",
       "      <td>25918</td>\n",
       "    </tr>\n",
       "  </tbody>\n",
       "</table>\n",
       "</div>"
      ],
      "text/plain": [
       "                                                     text  labelmax\n",
       "count                                               88264     88264\n",
       "unique                                              88264         6\n",
       "top     Pros Five9 is growing at an extremely quick pa...  customer\n",
       "freq                                                    1     25918"
      ]
     },
     "execution_count": 9,
     "metadata": {},
     "output_type": "execute_result"
    }
   ],
   "source": [
    "def text_language(text):\n",
    "    return langdetect.detect(text)\n",
    "    \n",
    "labelled_dataset = labelled_dataset[labelled_dataset[\"text\"].apply(text_language) == \"en\"]\n",
    "labelled_dataset.describe()"
   ]
  },
  {
   "cell_type": "code",
   "execution_count": 10,
   "metadata": {},
   "outputs": [
    {
     "data": {
      "text/plain": [
       "customer         25918\n",
       "collaboration    20527\n",
       "result           18512\n",
       "adaptability     16738\n",
       "detail            3828\n",
       "integrity         2741\n",
       "Name: labelmax, dtype: int64"
      ]
     },
     "execution_count": 10,
     "metadata": {},
     "output_type": "execute_result"
    }
   ],
   "source": [
    "labelled_dataset.labelmax.value_counts()"
   ]
  },
  {
   "cell_type": "markdown",
   "metadata": {},
   "source": [
    "## Segmentation + Tokenization + Stemming + Stop-word removal\n",
    "\n",
    "Here was concentrated most of the work of this challenge: preparing the text in order to be processed.\n",
    "\n",
    "Just an additional **trick** added here. Appart from the standard NLP pre-propressing tasks, as the segments of a review text feature the positive and negative aspects of the review, I hypothesize that textual expressions from each of these segments (pros/cons) may have a different influence to the type company culture determination.\n",
    "\n",
    "For that reason, appart from segmentate a text into pros/cons parts, I'm also adding the text with a prefix (+/-) "
   ]
  },
  {
   "cell_type": "code",
   "execution_count": 11,
   "metadata": {},
   "outputs": [],
   "source": [
    "# titles of the sehments\n",
    "SEGMENT_TITLES = '(Pros |Cons |Advice to Management )'"
   ]
  },
  {
   "cell_type": "code",
   "execution_count": 12,
   "metadata": {},
   "outputs": [],
   "source": [
    "# returns a segment by it's index in a string splited by SEGMENT_TITLES (i.e.: pros= 2, cons = 4, ...)\n",
    "def filter_by_segment(entry, index):\n",
    "    segments = re.split(SEGMENT_TITLES, entry)\n",
    "    return segments[index]"
   ]
  },
  {
   "cell_type": "code",
   "execution_count": 13,
   "metadata": {},
   "outputs": [],
   "source": [
    "# performs tokenisation + stemming + stop-word removal\n",
    "def tok_stem_stop(segment):\n",
    "    # tokenize and remove empty entries\n",
    "    tokens = nltk.word_tokenize(segment.lower())\n",
    "    # stop-word removal, single character tokens removal, and stemming\n",
    "    tokens = [stemmer_en.stem(_token) for _token in tokens\n",
    "              if _token not in stop_words_en\n",
    "              and len(_token) > 1\n",
    "              and _token not in [\"'s\", \"'d\"]\n",
    "             ]\n",
    "    # n't -> not\n",
    "    tokens = [_token.replace(\"n't\", \"not\") for _token in tokens]\n",
    "    return \" \".join(tokens)"
   ]
  },
  {
   "cell_type": "code",
   "execution_count": 14,
   "metadata": {},
   "outputs": [],
   "source": [
    "# performs tokenisation + gather just words with POS NN/JJ/VB* + stemming\n",
    "def tok_pos_stem(segment):\n",
    "    # tokenize and remove empty entries\n",
    "    tokens = nltk.word_tokenize(segment.lower())\n",
    "    # choosing only nouns, verbs, and adjectives\n",
    "    tokens = [_pos[0] for _pos in pos_tag(tokens) if _pos[1] in [\"NN\", \"NNS\", \"JJ\", \"VB\", \"VBG\"]]\n",
    "    # stemming\n",
    "    tokens = [stemmer_en.stem(_token) for _token in tokens]\n",
    "    return \" \".join(tokens)"
   ]
  },
  {
   "cell_type": "code",
   "execution_count": 15,
   "metadata": {},
   "outputs": [],
   "source": [
    "# performs tokenisation + lower case\n",
    "def tokens(segment):\n",
    "    return nltk.word_tokenize(segment.lower())"
   ]
  },
  {
   "cell_type": "code",
   "execution_count": 16,
   "metadata": {},
   "outputs": [],
   "source": [
    "# performs tokenisation + stop-word removal + lower case\n",
    "def token_stop(segment):\n",
    "    tokens = nltk.word_tokenize(segment.lower())\n",
    "    tokens = [_token for _token in tokens\n",
    "              if _token not in stop_words_en\n",
    "              and len(_token) > 1\n",
    "              and _token not in [\"'s\", \"'d\"]\n",
    "             ]\n",
    "    return tokens"
   ]
  },
  {
   "cell_type": "code",
   "execution_count": 17,
   "metadata": {},
   "outputs": [],
   "source": [
    "# adds a prefix (e.g.: +/-) to a token\n",
    "def prefix(entry, _prefix):\n",
    "    return \" \".join([_prefix + _token for _token in entry.split()])"
   ]
  },
  {
   "cell_type": "markdown",
   "metadata": {},
   "source": [
    "### Adding columns with pre-processed data to the dataframe"
   ]
  },
  {
   "cell_type": "code",
   "execution_count": 18,
   "metadata": {},
   "outputs": [],
   "source": [
    "labelled_dataset[\"pros\"] = labelled_dataset[\"text\"].apply(lambda entry: filter_by_segment(entry, 2));\n",
    "labelled_dataset[\"cons\"] = labelled_dataset[\"text\"].apply(lambda entry: filter_by_segment(entry, 4));\n",
    "labelled_dataset[\"all\"] = labelled_dataset[\"pros\"] + \" \" + labelled_dataset[\"cons\"];\n",
    "# labelled_dataset[\"advice\"] = labelled_dataset[\"text\"].apply(lambda entry: filter_by_segment(entry, 6));"
   ]
  },
  {
   "cell_type": "code",
   "execution_count": 19,
   "metadata": {},
   "outputs": [],
   "source": [
    "labelled_dataset[\"pros_tokens\"] = labelled_dataset[\"pros\"].apply(token_stop);\n",
    "labelled_dataset[\"cons_tokens\"] = labelled_dataset[\"cons\"].apply(token_stop);\n",
    "labelled_dataset[\"all_tokens\"] = labelled_dataset[\"all\"].apply(token_stop);"
   ]
  },
  {
   "cell_type": "code",
   "execution_count": 20,
   "metadata": {},
   "outputs": [],
   "source": [
    "labelled_dataset[\"pros_tok_stem_stop\"] = labelled_dataset[\"pros\"].apply(tok_stem_stop);\n",
    "labelled_dataset[\"pros_tok_stem_stop\"] = labelled_dataset[\"pros_tok_stem_stop\"].apply(lambda entry: prefix(entry, \"+\"));\n",
    "labelled_dataset[\"cons_tok_stem_stop\"] = labelled_dataset[\"cons\"].apply(tok_stem_stop);\n",
    "labelled_dataset[\"cons_tok_stem_stop\"] = labelled_dataset[\"cons_tok_stem_stop\"].apply(lambda entry: prefix(entry, \"-\"));\n",
    "\n",
    "labelled_dataset[\"all_tok_stem_stop\"] = labelled_dataset[\"pros_tok_stem_stop\"] + \" \" + \\\n",
    "    labelled_dataset[\"cons_tok_stem_stop\"]  "
   ]
  },
  {
   "cell_type": "code",
   "execution_count": 21,
   "metadata": {},
   "outputs": [],
   "source": [
    "labelled_dataset[\"pros_tok_pos_stem\"] = labelled_dataset[\"pros\"].apply(tok_pos_stem);\n",
    "labelled_dataset[\"pros_tok_pos_stem\"] = labelled_dataset[\"pros_tok_pos_stem\"].apply(lambda entry: prefix(entry, \"+\"));\n",
    "labelled_dataset[\"cons_tok_pos_stem\"] = labelled_dataset[\"cons\"].apply(tok_pos_stem);\n",
    "labelled_dataset[\"cons_tok_pos_stem\"] = labelled_dataset[\"cons_tok_pos_stem\"].apply(lambda entry: prefix(entry, \"-\"));\n",
    "\n",
    "labelled_dataset[\"all_tok_pos_stem\"] = labelled_dataset[\"pros_tok_pos_stem\"] + \" \" + \\\n",
    "    labelled_dataset[\"cons_tok_pos_stem\"]  "
   ]
  },
  {
   "cell_type": "code",
   "execution_count": 22,
   "metadata": {},
   "outputs": [
    {
     "data": {
      "text/html": [
       "<div>\n",
       "<style scoped>\n",
       "    .dataframe tbody tr th:only-of-type {\n",
       "        vertical-align: middle;\n",
       "    }\n",
       "\n",
       "    .dataframe tbody tr th {\n",
       "        vertical-align: top;\n",
       "    }\n",
       "\n",
       "    .dataframe thead th {\n",
       "        text-align: right;\n",
       "    }\n",
       "</style>\n",
       "<table border=\"1\" class=\"dataframe\">\n",
       "  <thead>\n",
       "    <tr style=\"text-align: right;\">\n",
       "      <th></th>\n",
       "      <th>text</th>\n",
       "      <th>labelmax</th>\n",
       "      <th>pros</th>\n",
       "      <th>cons</th>\n",
       "      <th>all</th>\n",
       "      <th>pros_tokens</th>\n",
       "      <th>cons_tokens</th>\n",
       "      <th>all_tokens</th>\n",
       "      <th>pros_tok_stem_stop</th>\n",
       "      <th>cons_tok_stem_stop</th>\n",
       "      <th>all_tok_stem_stop</th>\n",
       "      <th>pros_tok_pos_stem</th>\n",
       "      <th>cons_tok_pos_stem</th>\n",
       "      <th>all_tok_pos_stem</th>\n",
       "    </tr>\n",
       "  </thead>\n",
       "  <tbody>\n",
       "    <tr>\n",
       "      <th>0</th>\n",
       "      <td>Pros - The people who work here are brilliant ...</td>\n",
       "      <td>customer</td>\n",
       "      <td>- The people who work here are brilliant (inte...</td>\n",
       "      <td>- Salary isn't great compared to other grad jo...</td>\n",
       "      <td>- The people who work here are brilliant (inte...</td>\n",
       "      <td>[people, work, brilliant, intelligent, hard-wo...</td>\n",
       "      <td>[salary, n't, great, compared, grad, jobs, hop...</td>\n",
       "      <td>[people, work, brilliant, intelligent, hard-wo...</td>\n",
       "      <td>+peopl +work +brilliant +intellig +hard-work +...</td>\n",
       "      <td>-salari -not -great -compar -grad -job -hope -...</td>\n",
       "      <td>+peopl +work +brilliant +intellig +hard-work +...</td>\n",
       "      <td>+peopl +brilliant +intellig +hard-work +etc +e...</td>\n",
       "      <td>-salari -great -other -grad -job -improv -comp...</td>\n",
       "      <td>+peopl +brilliant +intellig +hard-work +etc +e...</td>\n",
       "    </tr>\n",
       "    <tr>\n",
       "      <th>1</th>\n",
       "      <td>Pros Start-up vibes Fast growing company Tech-...</td>\n",
       "      <td>customer</td>\n",
       "      <td>Start-up vibes Fast growing company Tech-orien...</td>\n",
       "      <td>Not the best pay, hopefully this will increase...</td>\n",
       "      <td>Start-up vibes Fast growing company Tech-orien...</td>\n",
       "      <td>[start-up, vibes, fast, growing, company, tech...</td>\n",
       "      <td>[best, pay, hopefully, increase, soon, company...</td>\n",
       "      <td>[start-up, vibes, fast, growing, company, tech...</td>\n",
       "      <td>+start-up +vibe +fast +grow +compani +tech-ori...</td>\n",
       "      <td>-best -pay -hope -increas -soon -compani -grow...</td>\n",
       "      <td>+start-up +vibe +fast +grow +compani +tech-ori...</td>\n",
       "      <td>+start-up +vibe +grow +compani +tech-ori +mana...</td>\n",
       "      <td>-pay -increas -compani -communic -team -improv</td>\n",
       "      <td>+start-up +vibe +grow +compani +tech-ori +mana...</td>\n",
       "    </tr>\n",
       "    <tr>\n",
       "      <th>2</th>\n",
       "      <td>Pros The team is great, I love the ambition of...</td>\n",
       "      <td>collaboration</td>\n",
       "      <td>The team is great, I love the ambition of the ...</td>\n",
       "      <td>Communication could improve between teams.</td>\n",
       "      <td>The team is great, I love the ambition of the ...</td>\n",
       "      <td>[team, great, love, ambition, company, great, ...</td>\n",
       "      <td>[communication, could, improve, teams]</td>\n",
       "      <td>[team, great, love, ambition, company, great, ...</td>\n",
       "      <td>+team +great +love +ambit +compani +great +see...</td>\n",
       "      <td>-communic -could -improv -team</td>\n",
       "      <td>+team +great +love +ambit +compani +great +see...</td>\n",
       "      <td>+team +great +i +ambit +compani +great +see +p...</td>\n",
       "      <td>-communic -improv -team</td>\n",
       "      <td>+team +great +i +ambit +compani +great +see +p...</td>\n",
       "    </tr>\n",
       "    <tr>\n",
       "      <th>3</th>\n",
       "      <td>Pros The company is constantly growing, and at...</td>\n",
       "      <td>adaptability</td>\n",
       "      <td>The company is constantly growing, and at a ve...</td>\n",
       "      <td>Workload isn't always manageable and it can ge...</td>\n",
       "      <td>The company is constantly growing, and at a ve...</td>\n",
       "      <td>[company, constantly, growing, fast, pace, gre...</td>\n",
       "      <td>[workload, n't, always, manageable, get, quite...</td>\n",
       "      <td>[company, constantly, growing, fast, pace, gre...</td>\n",
       "      <td>+compani +constant +grow +fast +pace +great +c...</td>\n",
       "      <td>-workload -not -alway -manag -get -quit -inten...</td>\n",
       "      <td>+compani +constant +grow +fast +pace +great +c...</td>\n",
       "      <td>+compani +grow +fast +pace +great +cowork +enj...</td>\n",
       "      <td>-workload -manag -get -intens -compani -noth -be</td>\n",
       "      <td>+compani +grow +fast +pace +great +cowork +enj...</td>\n",
       "    </tr>\n",
       "    <tr>\n",
       "      <th>4</th>\n",
       "      <td>Pros Cool office. Friendly people. Good atmosp...</td>\n",
       "      <td>collaboration</td>\n",
       "      <td>Cool office. Friendly people. Good atmosphere....</td>\n",
       "      <td>High workload. Low pay. High staff turnover.</td>\n",
       "      <td>Cool office. Friendly people. Good atmosphere....</td>\n",
       "      <td>[cool, office, friendly, people, good, atmosph...</td>\n",
       "      <td>[high, workload, low, pay, high, staff, turnover]</td>\n",
       "      <td>[cool, office, friendly, people, good, atmosph...</td>\n",
       "      <td>+cool +offic +friend +peopl +good +atmospher +...</td>\n",
       "      <td>-high -workload -low -pay -high -staff -turnov</td>\n",
       "      <td>+cool +offic +friend +peopl +good +atmospher +...</td>\n",
       "      <td>+cool +offic +friend +peopl +good +atmospher +...</td>\n",
       "      <td>-high -workload -low -pay -high -staff -turnov</td>\n",
       "      <td>+cool +offic +friend +peopl +good +atmospher +...</td>\n",
       "    </tr>\n",
       "  </tbody>\n",
       "</table>\n",
       "</div>"
      ],
      "text/plain": [
       "                                                text       labelmax  \\\n",
       "0  Pros - The people who work here are brilliant ...       customer   \n",
       "1  Pros Start-up vibes Fast growing company Tech-...       customer   \n",
       "2  Pros The team is great, I love the ambition of...  collaboration   \n",
       "3  Pros The company is constantly growing, and at...   adaptability   \n",
       "4  Pros Cool office. Friendly people. Good atmosp...  collaboration   \n",
       "\n",
       "                                                pros  \\\n",
       "0  - The people who work here are brilliant (inte...   \n",
       "1  Start-up vibes Fast growing company Tech-orien...   \n",
       "2  The team is great, I love the ambition of the ...   \n",
       "3  The company is constantly growing, and at a ve...   \n",
       "4  Cool office. Friendly people. Good atmosphere....   \n",
       "\n",
       "                                                cons  \\\n",
       "0  - Salary isn't great compared to other grad jo...   \n",
       "1  Not the best pay, hopefully this will increase...   \n",
       "2         Communication could improve between teams.   \n",
       "3  Workload isn't always manageable and it can ge...   \n",
       "4       High workload. Low pay. High staff turnover.   \n",
       "\n",
       "                                                 all  \\\n",
       "0  - The people who work here are brilliant (inte...   \n",
       "1  Start-up vibes Fast growing company Tech-orien...   \n",
       "2  The team is great, I love the ambition of the ...   \n",
       "3  The company is constantly growing, and at a ve...   \n",
       "4  Cool office. Friendly people. Good atmosphere....   \n",
       "\n",
       "                                         pros_tokens  \\\n",
       "0  [people, work, brilliant, intelligent, hard-wo...   \n",
       "1  [start-up, vibes, fast, growing, company, tech...   \n",
       "2  [team, great, love, ambition, company, great, ...   \n",
       "3  [company, constantly, growing, fast, pace, gre...   \n",
       "4  [cool, office, friendly, people, good, atmosph...   \n",
       "\n",
       "                                         cons_tokens  \\\n",
       "0  [salary, n't, great, compared, grad, jobs, hop...   \n",
       "1  [best, pay, hopefully, increase, soon, company...   \n",
       "2             [communication, could, improve, teams]   \n",
       "3  [workload, n't, always, manageable, get, quite...   \n",
       "4  [high, workload, low, pay, high, staff, turnover]   \n",
       "\n",
       "                                          all_tokens  \\\n",
       "0  [people, work, brilliant, intelligent, hard-wo...   \n",
       "1  [start-up, vibes, fast, growing, company, tech...   \n",
       "2  [team, great, love, ambition, company, great, ...   \n",
       "3  [company, constantly, growing, fast, pace, gre...   \n",
       "4  [cool, office, friendly, people, good, atmosph...   \n",
       "\n",
       "                                  pros_tok_stem_stop  \\\n",
       "0  +peopl +work +brilliant +intellig +hard-work +...   \n",
       "1  +start-up +vibe +fast +grow +compani +tech-ori...   \n",
       "2  +team +great +love +ambit +compani +great +see...   \n",
       "3  +compani +constant +grow +fast +pace +great +c...   \n",
       "4  +cool +offic +friend +peopl +good +atmospher +...   \n",
       "\n",
       "                                  cons_tok_stem_stop  \\\n",
       "0  -salari -not -great -compar -grad -job -hope -...   \n",
       "1  -best -pay -hope -increas -soon -compani -grow...   \n",
       "2                     -communic -could -improv -team   \n",
       "3  -workload -not -alway -manag -get -quit -inten...   \n",
       "4     -high -workload -low -pay -high -staff -turnov   \n",
       "\n",
       "                                   all_tok_stem_stop  \\\n",
       "0  +peopl +work +brilliant +intellig +hard-work +...   \n",
       "1  +start-up +vibe +fast +grow +compani +tech-ori...   \n",
       "2  +team +great +love +ambit +compani +great +see...   \n",
       "3  +compani +constant +grow +fast +pace +great +c...   \n",
       "4  +cool +offic +friend +peopl +good +atmospher +...   \n",
       "\n",
       "                                   pros_tok_pos_stem  \\\n",
       "0  +peopl +brilliant +intellig +hard-work +etc +e...   \n",
       "1  +start-up +vibe +grow +compani +tech-ori +mana...   \n",
       "2  +team +great +i +ambit +compani +great +see +p...   \n",
       "3  +compani +grow +fast +pace +great +cowork +enj...   \n",
       "4  +cool +offic +friend +peopl +good +atmospher +...   \n",
       "\n",
       "                                   cons_tok_pos_stem  \\\n",
       "0  -salari -great -other -grad -job -improv -comp...   \n",
       "1     -pay -increas -compani -communic -team -improv   \n",
       "2                            -communic -improv -team   \n",
       "3   -workload -manag -get -intens -compani -noth -be   \n",
       "4     -high -workload -low -pay -high -staff -turnov   \n",
       "\n",
       "                                    all_tok_pos_stem  \n",
       "0  +peopl +brilliant +intellig +hard-work +etc +e...  \n",
       "1  +start-up +vibe +grow +compani +tech-ori +mana...  \n",
       "2  +team +great +i +ambit +compani +great +see +p...  \n",
       "3  +compani +grow +fast +pace +great +cowork +enj...  \n",
       "4  +cool +offic +friend +peopl +good +atmospher +...  "
      ]
     },
     "execution_count": 22,
     "metadata": {},
     "output_type": "execute_result"
    }
   ],
   "source": [
    "labelled_dataset.head()"
   ]
  },
  {
   "cell_type": "markdown",
   "metadata": {},
   "source": [
    "## Reviews length\n",
    "\n",
    "Tha mnajority of the reviews contain less than 140 words.\n",
    "**Cons** use to be longer than **pros** (people uses to complain more on Glassdoor?)"
   ]
  },
  {
   "cell_type": "code",
   "execution_count": 23,
   "metadata": {},
   "outputs": [
    {
     "data": {
      "image/png": "[encoded data removed]",
      "text/plain": [
       "<matplotlib.figure.Figure at 0x22234450ba8>"
      ]
     },
     "metadata": {},
     "output_type": "display_data"
    }
   ],
   "source": [
    "str_lens = labelled_dataset[\"all_tokens\"].apply(len)\n",
    "plt.xlim(0, 200)\n",
    "sns.boxplot(str_lens, palette=\"Set3\", showfliers=False);"
   ]
  },
  {
   "cell_type": "code",
   "execution_count": 24,
   "metadata": {},
   "outputs": [
    {
     "data": {
      "image/png": "[encoded data removed]",
      "text/plain": [
       "<matplotlib.figure.Figure at 0x22234450860>"
      ]
     },
     "metadata": {},
     "output_type": "display_data"
    }
   ],
   "source": [
    "str_lens = labelled_dataset[\"pros_tokens\"].apply(len)\n",
    "plt.xlim(0, 200)\n",
    "sns.boxplot(str_lens, palette=\"Set2\", showfliers=False);"
   ]
  },
  {
   "cell_type": "code",
   "execution_count": 25,
   "metadata": {},
   "outputs": [
    {
     "data": {
      "image/png": "[encoded data removed]",
      "text/plain": [
       "<matplotlib.figure.Figure at 0x22233f1acf8>"
      ]
     },
     "metadata": {},
     "output_type": "display_data"
    }
   ],
   "source": [
    "str_lens = labelled_dataset[\"cons_tokens\"].apply(len)\n",
    "plt.xlim(0, 200)\n",
    "sns.boxplot(str_lens, palette=\"Set1\", showfliers=False);"
   ]
  },
  {
   "cell_type": "markdown",
   "metadata": {},
   "source": [
    "## Train / Test datasets\n",
    "\n",
    "In this exploratory study, I'm going to split the dataset into 80% training and 20% testing. It must be ensured that the same class proportions are kept in the test dataset."
   ]
  },
  {
   "cell_type": "code",
   "execution_count": 26,
   "metadata": {},
   "outputs": [],
   "source": [
    "COLUMNS = [\"text\", \"labelmax\", \"pros\", \"cons\", \"all\", \"pros_tokens\", \"cons_tokens\", \"all_tokens\", \"pros_tok_stem_stop\", \"cons_tok_stem_stop\", \"all_tok_stem_stop\", \"pros_tok_pos_stem\", \"cons_tok_pos_stem\", \"all_tok_pos_stem\"]\n",
    "\n",
    "df_train, df_test, _, _ = train_test_split(\n",
    "    labelled_dataset[COLUMNS],\n",
    "    labelled_dataset[[\"labelmax\"]],\n",
    "    stratify=labelled_dataset[[\"labelmax\"]],\n",
    "    test_size=0.20,\n",
    "    random_state=SOLUTION_FOR_EVERYTHING\n",
    ");"
   ]
  },
  {
   "cell_type": "markdown",
   "metadata": {},
   "source": [
    "## Balancing classes\n",
    "\n",
    "Classes are not balanced and it may result in a skewed classification based in this data. One solution for this is to oversample minorty classes. As **detail** and **integrity** classes have small subsets, oversampling can also result in skewed results. I'm taking the risk and oversampling all of them:"
   ]
  },
  {
   "cell_type": "code",
   "execution_count": 27,
   "metadata": {},
   "outputs": [
    {
     "data": {
      "image/png": "[encoded data removed]",
      "text/plain": [
       "<matplotlib.figure.Figure at 0x2220ce7e940>"
      ]
     },
     "metadata": {},
     "output_type": "display_data"
    }
   ],
   "source": [
    "sns.countplot(data=df_train, x=\"labelmax\", palette=\"Set3\");"
   ]
  },
  {
   "cell_type": "code",
   "execution_count": 28,
   "metadata": {},
   "outputs": [],
   "source": [
    "for _label in set(df_train.labelmax.values):\n",
    "    ballanced_label_df = resample(\n",
    "        df_train[df_train.labelmax == _label],\n",
    "        replace=True,\n",
    "        n_samples=max(df_train.labelmax.value_counts()),\n",
    "        random_state=42\n",
    "    )\n",
    "    df_train = df_train[df_train.labelmax != _label]\n",
    "    df_train = pd.concat([df_train, ballanced_label_df])\n",
    "\n",
    "df_train = df_train.sample(frac=1).reset_index(drop=True)"
   ]
  },
  {
   "cell_type": "code",
   "execution_count": 29,
   "metadata": {},
   "outputs": [
    {
     "data": {
      "image/png": "[encoded data removed]",
      "text/plain": [
       "<matplotlib.figure.Figure at 0x222344f4e80>"
      ]
     },
     "metadata": {},
     "output_type": "display_data"
    }
   ],
   "source": [
    "sns.countplot(data=df_train, x=\"labelmax\", palette=\"Set3\");"
   ]
  },
  {
   "cell_type": "markdown",
   "metadata": {},
   "source": [
    "# Classical TF-IDF approach\n",
    "\n",
    "The classical approach for text classification uses TF-IDF. In this case, I'm using a SVM instead of a Naïve-Bayes classifier."
   ]
  },
  {
   "cell_type": "code",
   "execution_count": 30,
   "metadata": {},
   "outputs": [],
   "source": [
    "from sklearn.feature_extraction.text import CountVectorizer, TfidfTransformer\n",
    "from sklearn.svm import SVC, LinearSVC\n",
    "from sklearn.pipeline import Pipeline"
   ]
  },
  {
   "cell_type": "code",
   "execution_count": 31,
   "metadata": {},
   "outputs": [],
   "source": [
    "def tfidf():\n",
    "    count_vectorizer = CountVectorizer(ngram_range=(1, 1), max_features=500)\n",
    "    tf_idf = TfidfTransformer(norm=\"l2\")\n",
    "    svm_clf = SVC()\n",
    "    tfidf_clf = Pipeline([\n",
    "        ('count_vectorizer', count_vectorizer),\n",
    "        ('tf_idf', tf_idf),\n",
    "        ('svm_clf', svm_clf)\n",
    "    ])\n",
    "    return tfidf_clf"
   ]
  },
  {
   "cell_type": "code",
   "execution_count": 32,
   "metadata": {},
   "outputs": [],
   "source": [
    "text_clf = tfidf()"
   ]
  },
  {
   "cell_type": "code",
   "execution_count": 33,
   "metadata": {},
   "outputs": [],
   "source": [
    "train_data = df_train.as_matrix(columns=[\"all_tok_pos_stem\"])[:,0]\n",
    "train_labels = df_train.as_matrix(columns=[\"labelmax\"])[:,0]\n",
    "\n",
    "text_clf.fit(train_data, train_labels);"
   ]
  },
  {
   "cell_type": "code",
   "execution_count": 34,
   "metadata": {},
   "outputs": [],
   "source": [
    "predictions = text_clf.predict(df_test.as_matrix(columns=[\"all_tok_pos_stem\"])[:,0])\n",
    "labels = list(df_test.labelmax)"
   ]
  },
  {
   "cell_type": "code",
   "execution_count": 35,
   "metadata": {},
   "outputs": [
    {
     "data": {
      "image/png": "[encoded data removed]",
      "text/plain": [
       "<matplotlib.figure.Figure at 0x22234423e10>"
      ]
     },
     "metadata": {},
     "output_type": "display_data"
    }
   ],
   "source": [
    "from sklearn.metrics import confusion_matrix\n",
    "conf_mat = confusion_matrix(labels, predictions)\n",
    "sns.heatmap(conf_mat, annot=True, fmt='d', cmap=\"BuPu\",\n",
    "            xticklabels=df_test.labelmax.unique(), yticklabels=df_test.labelmax.unique());"
   ]
  },
  {
   "cell_type": "code",
   "execution_count": 36,
   "metadata": {},
   "outputs": [
    {
     "data": {
      "text/plain": [
       "0.5654562963802187"
      ]
     },
     "execution_count": 36,
     "metadata": {},
     "output_type": "execute_result"
    }
   ],
   "source": [
    "from sklearn.metrics import accuracy_score\n",
    "accuracy_score(labels, predictions, normalize=True)"
   ]
  },
  {
   "cell_type": "markdown",
   "metadata": {},
   "source": [
    "# CNN (3+3+2) approach\n",
    "\n",
    "CNNs are among the state-of-the-art of text classification. This is the most well-known CNN implementation (Yoon Kim 2014) for this type of task:"
   ]
  },
  {
   "cell_type": "code",
   "execution_count": 37,
   "metadata": {},
   "outputs": [
    {
     "name": "stderr",
     "output_type": "stream",
     "text": [
      "Using TensorFlow backend.\n"
     ]
    }
   ],
   "source": [
    "import gensim\n",
    "from gensim.models.keyedvectors import Word2VecKeyedVectors\n",
    "from keras.utils import to_categorical\n",
    "from keras.preprocessing.text import Tokenizer\n",
    "from keras.preprocessing.sequence import pad_sequences\n",
    "\n",
    "from keras.models import Model\n",
    "from keras.optimizers import Adam\n",
    "from keras.layers import Input, Embedding, Dense, Convolution1D, ThresholdedReLU, MaxPooling1D, Dropout, Flatten\n",
    "\n",
    "from keras.callbacks import ModelCheckpoint, EarlyStopping, LambdaCallback\n",
    "\n",
    "from keras import backend as K"
   ]
  },
  {
   "cell_type": "code",
   "execution_count": 38,
   "metadata": {},
   "outputs": [],
   "source": [
    "# word vectors from Glove, imported as gensim keyvecs\n",
    "wv = Word2VecKeyedVectors.load(\"models/wv/word.vectors\")\n",
    "weights = np.load(\"models/wv/word.vectors.vectors.npy\")"
   ]
  },
  {
   "cell_type": "code",
   "execution_count": 39,
   "metadata": {},
   "outputs": [],
   "source": [
    "SEQUENCE_DIM = 200 # fulfills most of the reviews with 140 words\n",
    "CLASSES_DIM = len(classes_array) # 6\n",
    "DROPOUT = 0.1 # maybe..."
   ]
  },
  {
   "cell_type": "code",
   "execution_count": 40,
   "metadata": {},
   "outputs": [],
   "source": [
    "# turn labels into categorical arrays\n",
    "train_labelmax = [classes_array.index(row) for row in df_train[\"labelmax\"].as_matrix()]\n",
    "test_labelmax = [classes_array.index(row) for row in df_test[\"labelmax\"].as_matrix()]\n",
    "\n",
    "train_cat_labels = to_categorical(np.asarray(train_labelmax))\n",
    "test_cat_labels = to_categorical(np.asarray(test_labelmax))"
   ]
  },
  {
   "cell_type": "code",
   "execution_count": 41,
   "metadata": {},
   "outputs": [],
   "source": [
    "def create_embedding_vectors(df, wv):\n",
    "    \n",
    "    def vectorise_token(token, wv):\n",
    "        # just ignoring OOVs\n",
    "        vector = None\n",
    "        if token in wv.vocab:\n",
    "            vector = wv.index2entity.index(token)\n",
    "        return vector\n",
    "        \n",
    "    embedding_vectors = []\n",
    "    \n",
    "    for review in df:\n",
    "        review_embedding = []\n",
    "        for token in review:\n",
    "            vector = vectorise_token(token, wv)\n",
    "            if vector is not None:\n",
    "                review_embedding.append(vector)\n",
    "        embedding_vectors.append(review_embedding)\n",
    "\n",
    "    return embedding_vectors\n",
    "\n",
    "train_embedding = create_embedding_vectors(df_train[\"all_tokens\"], wv)\n",
    "test_embedding = create_embedding_vectors(df_test[\"pros_tokens\"], wv)"
   ]
  },
  {
   "cell_type": "code",
   "execution_count": 42,
   "metadata": {},
   "outputs": [],
   "source": [
    "train_vectors = pad_sequences(train_embedding, maxlen=SEQUENCE_DIM, padding='post')\n",
    "test_vectors = pad_sequences(test_embedding, maxlen=SEQUENCE_DIM, padding='post')"
   ]
  },
  {
   "cell_type": "code",
   "execution_count": 43,
   "metadata": {},
   "outputs": [],
   "source": [
    "# build the convnet here!\n",
    "def convnet(weights, sequence_dim, classes_dim, dropout_val):\n",
    "    _lexicon_dim = weights.shape[0]\n",
    "    _embed_dim = weights.shape[1]\n",
    "    inputs = Input(shape=(sequence_dim,), dtype='int32')\n",
    "    embed = Embedding(input_dim=_lexicon_dim, output_dim=_embed_dim, weights=[weights])(inputs)\n",
    "\n",
    "    x = Convolution1D(100, 5, activation='relu')(embed)\n",
    "    x = MaxPooling1D(5)(x)\n",
    "    x = Convolution1D(100, 5, activation='relu')(x)\n",
    "    x = MaxPooling1D(4)(x)\n",
    "    x = Convolution1D(100, 5, activation='relu')(x)\n",
    "    x = MaxPooling1D(3)(x)\n",
    "\n",
    "    flatten = Flatten()(x)\n",
    "    dropout = Dropout(dropout_val)(flatten)\n",
    "    x = Dense(100, activation='relu')(dropout)\n",
    "\n",
    "    outputs = Dense(classes_dim, activation='softmax', name=\"last_layer\")(x)\n",
    "\n",
    "    model = Model(inputs=inputs, outputs=outputs)\n",
    "    return model"
   ]
  },
  {
   "cell_type": "code",
   "execution_count": 44,
   "metadata": {},
   "outputs": [],
   "source": [
    "model = convnet(weights, SEQUENCE_DIM, CLASSES_DIM, DROPOUT)"
   ]
  },
  {
   "cell_type": "code",
   "execution_count": 45,
   "metadata": {},
   "outputs": [
    {
     "name": "stdout",
     "output_type": "stream",
     "text": [
      "_________________________________________________________________\n",
      "Layer (type)                 Output Shape              Param #   \n",
      "=================================================================\n",
      "input_1 (InputLayer)         (None, 200)               0         \n",
      "_________________________________________________________________\n",
      "embedding_1 (Embedding)      (None, 200, 50)           20000000  \n",
      "_________________________________________________________________\n",
      "conv1d_1 (Conv1D)            (None, 196, 100)          25100     \n",
      "_________________________________________________________________\n",
      "max_pooling1d_1 (MaxPooling1 (None, 39, 100)           0         \n",
      "_________________________________________________________________\n",
      "conv1d_2 (Conv1D)            (None, 35, 100)           50100     \n",
      "_________________________________________________________________\n",
      "max_pooling1d_2 (MaxPooling1 (None, 8, 100)            0         \n",
      "_________________________________________________________________\n",
      "conv1d_3 (Conv1D)            (None, 4, 100)            50100     \n",
      "_________________________________________________________________\n",
      "max_pooling1d_3 (MaxPooling1 (None, 1, 100)            0         \n",
      "_________________________________________________________________\n",
      "flatten_1 (Flatten)          (None, 100)               0         \n",
      "_________________________________________________________________\n",
      "dropout_1 (Dropout)          (None, 100)               0         \n",
      "_________________________________________________________________\n",
      "dense_1 (Dense)              (None, 100)               10100     \n",
      "_________________________________________________________________\n",
      "last_layer (Dense)           (None, 6)                 606       \n",
      "=================================================================\n",
      "Total params: 20,136,006\n",
      "Trainable params: 20,136,006\n",
      "Non-trainable params: 0\n",
      "_________________________________________________________________\n"
     ]
    }
   ],
   "source": [
    "model.summary()"
   ]
  },
  {
   "cell_type": "code",
   "execution_count": 46,
   "metadata": {},
   "outputs": [],
   "source": [
    "model.compile(optimizer=Adam(lr=1e-4, epsilon=1e-08), loss='categorical_crossentropy', metrics=['accuracy'])"
   ]
  },
  {
   "cell_type": "code",
   "execution_count": 47,
   "metadata": {},
   "outputs": [],
   "source": [
    "# let's make it faster and avoid the over-fitting that perhaps was arlready happening\n",
    "early_stop_cb = EarlyStopping(patience=7, monitor='val_acc', mode='max')\n",
    "checkpoint_cb = ModelCheckpoint(\"cnn.h5\", monitor='val_acc', save_best_only=True, mode='max', verbose=0)\n",
    "\n",
    "callbacks = [early_stop_cb, checkpoint_cb]"
   ]
  },
  {
   "cell_type": "code",
   "execution_count": 48,
   "metadata": {},
   "outputs": [
    {
     "data": {
      "text/plain": [
       "[name: \"/device:CPU:0\"\n",
       " device_type: \"CPU\"\n",
       " memory_limit: 268435456\n",
       " locality {\n",
       " }\n",
       " incarnation: 13157377984630036036, name: \"/device:GPU:0\"\n",
       " device_type: \"GPU\"\n",
       " memory_limit: 235883724\n",
       " locality {\n",
       "   bus_id: 1\n",
       " }\n",
       " incarnation: 9359948633398880889\n",
       " physical_device_desc: \"device: 0, name: GeForce GTX 960M, pci bus id: 0000:01:00.0, compute capability: 5.0\"]"
      ]
     },
     "execution_count": 48,
     "metadata": {},
     "output_type": "execute_result"
    }
   ],
   "source": [
    "import tensorflow as tf\n",
    "from tensorflow.python.client import device_lib\n",
    "device_lib.list_local_devices()"
   ]
  },
  {
   "cell_type": "code",
   "execution_count": 49,
   "metadata": {},
   "outputs": [
    {
     "data": {
      "text/plain": [
       "(124404, 200)"
      ]
     },
     "execution_count": 49,
     "metadata": {},
     "output_type": "execute_result"
    }
   ],
   "source": [
    "train_vectors.shape"
   ]
  },
  {
   "cell_type": "code",
   "execution_count": 50,
   "metadata": {},
   "outputs": [
    {
     "name": "stdout",
     "output_type": "stream",
     "text": [
      "Train on 111963 samples, validate on 12441 samples\n",
      "Epoch 1/100\n",
      "111963/111963 [==============================] - 146s 1ms/step - loss: 1.5784 - acc: 0.3499 - val_loss: 1.3339 - val_acc: 0.4836\n",
      "Epoch 2/100\n",
      "111963/111963 [==============================] - 144s 1ms/step - loss: 1.2105 - acc: 0.5381 - val_loss: 1.1043 - val_acc: 0.5789\n",
      "Epoch 3/100\n",
      "111963/111963 [==============================] - 144s 1ms/step - loss: 1.0078 - acc: 0.6210 - val_loss: 0.9578 - val_acc: 0.6378\n",
      "Epoch 4/100\n",
      "111963/111963 [==============================] - 144s 1ms/step - loss: 0.8553 - acc: 0.6813 - val_loss: 0.8330 - val_acc: 0.6856\n",
      "Epoch 5/100\n",
      "111963/111963 [==============================] - 145s 1ms/step - loss: 0.7362 - acc: 0.7270 - val_loss: 0.7460 - val_acc: 0.7214\n",
      "Epoch 6/100\n",
      "111963/111963 [==============================] - 144s 1ms/step - loss: 0.6370 - acc: 0.7647 - val_loss: 0.6990 - val_acc: 0.7446\n",
      "Epoch 7/100\n",
      "111963/111963 [==============================] - 144s 1ms/step - loss: 0.5517 - acc: 0.7983 - val_loss: 0.6172 - val_acc: 0.7766\n",
      "Epoch 8/100\n",
      "111963/111963 [==============================] - 144s 1ms/step - loss: 0.4812 - acc: 0.8265 - val_loss: 0.6007 - val_acc: 0.7835\n",
      "Epoch 9/100\n",
      "111963/111963 [==============================] - 145s 1ms/step - loss: 0.4245 - acc: 0.8468 - val_loss: 0.5454 - val_acc: 0.8094\n",
      "Epoch 10/100\n",
      "111963/111963 [==============================] - 144s 1ms/step - loss: 0.3703 - acc: 0.8698 - val_loss: 0.4944 - val_acc: 0.8331\n",
      "Epoch 11/100\n",
      "111963/111963 [==============================] - 144s 1ms/step - loss: 0.3244 - acc: 0.8881 - val_loss: 0.4785 - val_acc: 0.8431\n",
      "Epoch 12/100\n",
      "111963/111963 [==============================] - 144s 1ms/step - loss: 0.2858 - acc: 0.9020 - val_loss: 0.4885 - val_acc: 0.8445\n",
      "Epoch 13/100\n",
      "111963/111963 [==============================] - 144s 1ms/step - loss: 0.2503 - acc: 0.9154 - val_loss: 0.4709 - val_acc: 0.8576\n",
      "Epoch 14/100\n",
      "111963/111963 [==============================] - 144s 1ms/step - loss: 0.2167 - acc: 0.9285 - val_loss: 0.4773 - val_acc: 0.8595\n",
      "Epoch 15/100\n",
      "111963/111963 [==============================] - 144s 1ms/step - loss: 0.1909 - acc: 0.9378 - val_loss: 0.4380 - val_acc: 0.8785\n",
      "Epoch 16/100\n",
      "111963/111963 [==============================] - 140s 1ms/step - loss: 0.1678 - acc: 0.9463 - val_loss: 0.4863 - val_acc: 0.8732\n",
      "Epoch 17/100\n",
      "111963/111963 [==============================] - 140s 1ms/step - loss: 0.1469 - acc: 0.9540 - val_loss: 0.5720 - val_acc: 0.8621\n",
      "Epoch 18/100\n",
      "111963/111963 [==============================] - 144s 1ms/step - loss: 0.1288 - acc: 0.9599 - val_loss: 0.4581 - val_acc: 0.8885\n",
      "Epoch 19/100\n",
      "111963/111963 [==============================] - 144s 1ms/step - loss: 0.1150 - acc: 0.9651 - val_loss: 0.4626 - val_acc: 0.8976\n",
      "Epoch 20/100\n",
      "111963/111963 [==============================] - 144s 1ms/step - loss: 0.1031 - acc: 0.9688 - val_loss: 0.4810 - val_acc: 0.8976\n",
      "Epoch 21/100\n",
      "111963/111963 [==============================] - 144s 1ms/step - loss: 0.0905 - acc: 0.9728 - val_loss: 0.5046 - val_acc: 0.9011\n",
      "Epoch 22/100\n",
      "111963/111963 [==============================] - 140s 1ms/step - loss: 0.0799 - acc: 0.9764 - val_loss: 0.5530 - val_acc: 0.8962\n",
      "Epoch 23/100\n",
      "111963/111963 [==============================] - 144s 1ms/step - loss: 0.0704 - acc: 0.9793 - val_loss: 0.5134 - val_acc: 0.9031\n",
      "Epoch 24/100\n",
      "111963/111963 [==============================] - 141s 1ms/step - loss: 0.0636 - acc: 0.9815 - val_loss: 0.5542 - val_acc: 0.8979\n",
      "Epoch 25/100\n",
      "111963/111963 [==============================] - 144s 1ms/step - loss: 0.0588 - acc: 0.9825 - val_loss: 0.5368 - val_acc: 0.9079\n",
      "Epoch 26/100\n",
      "111963/111963 [==============================] - 140s 1ms/step - loss: 0.0529 - acc: 0.9844 - val_loss: 0.5654 - val_acc: 0.9064\n",
      "Epoch 27/100\n",
      "111963/111963 [==============================] - 145s 1ms/step - loss: 0.0450 - acc: 0.9870 - val_loss: 0.5734 - val_acc: 0.9105\n",
      "Epoch 28/100\n",
      "111963/111963 [==============================] - 141s 1ms/step - loss: 0.0428 - acc: 0.9877 - val_loss: 0.6043 - val_acc: 0.9093\n",
      "Epoch 29/100\n",
      "111963/111963 [==============================] - 144s 1ms/step - loss: 0.0406 - acc: 0.9880 - val_loss: 0.6163 - val_acc: 0.9119\n",
      "Epoch 30/100\n",
      "111963/111963 [==============================] - 141s 1ms/step - loss: 0.0360 - acc: 0.9898 - val_loss: 0.6523 - val_acc: 0.9084\n",
      "Epoch 31/100\n",
      "111963/111963 [==============================] - 140s 1ms/step - loss: 0.0350 - acc: 0.9900 - val_loss: 0.7253 - val_acc: 0.8925\n",
      "Epoch 32/100\n",
      "111963/111963 [==============================] - 144s 1ms/step - loss: 0.0298 - acc: 0.9917 - val_loss: 0.6340 - val_acc: 0.9129\n",
      "Epoch 33/100\n",
      "111963/111963 [==============================] - 144s 1ms/step - loss: 0.0322 - acc: 0.9904 - val_loss: 0.6298 - val_acc: 0.9146\n",
      "Epoch 34/100\n",
      "111963/111963 [==============================] - 140s 1ms/step - loss: 0.0270 - acc: 0.9924 - val_loss: 0.6651 - val_acc: 0.9109\n",
      "Epoch 35/100\n",
      "111963/111963 [==============================] - 140s 1ms/step - loss: 0.0280 - acc: 0.9920 - val_loss: 0.6595 - val_acc: 0.9116\n",
      "Epoch 36/100\n",
      "111963/111963 [==============================] - 141s 1ms/step - loss: 0.0233 - acc: 0.9933 - val_loss: 0.8176 - val_acc: 0.8910\n",
      "Epoch 37/100\n",
      "111963/111963 [==============================] - 140s 1ms/step - loss: 0.0246 - acc: 0.9927 - val_loss: 0.6901 - val_acc: 0.9103\n",
      "Epoch 38/100\n",
      "111963/111963 [==============================] - 143s 1ms/step - loss: 0.0224 - acc: 0.9932 - val_loss: 0.6610 - val_acc: 0.9158\n",
      "Epoch 39/100\n",
      "111963/111963 [==============================] - 140s 1ms/step - loss: 0.0198 - acc: 0.9943 - val_loss: 0.7006 - val_acc: 0.9124\n",
      "Epoch 40/100\n",
      "111963/111963 [==============================] - 140s 1ms/step - loss: 0.0222 - acc: 0.9939 - val_loss: 0.7170 - val_acc: 0.9134\n",
      "Epoch 41/100\n",
      "111963/111963 [==============================] - 140s 1ms/step - loss: 0.0210 - acc: 0.9938 - val_loss: 0.7097 - val_acc: 0.9131\n",
      "Epoch 42/100\n",
      "111963/111963 [==============================] - 140s 1ms/step - loss: 0.0189 - acc: 0.9944 - val_loss: 0.7194 - val_acc: 0.9121\n",
      "Epoch 43/100\n",
      "111963/111963 [==============================] - 140s 1ms/step - loss: 0.0196 - acc: 0.9943 - val_loss: 0.7320 - val_acc: 0.9139\n",
      "Epoch 44/100\n",
      "111963/111963 [==============================] - 144s 1ms/step - loss: 0.0186 - acc: 0.9946 - val_loss: 0.6925 - val_acc: 0.9179\n",
      "Epoch 45/100\n",
      "111963/111963 [==============================] - 140s 1ms/step - loss: 0.0164 - acc: 0.9953 - val_loss: 0.7539 - val_acc: 0.9122\n",
      "Epoch 46/100\n",
      "111963/111963 [==============================] - 141s 1ms/step - loss: 0.0170 - acc: 0.9951 - val_loss: 0.7314 - val_acc: 0.9158\n",
      "Epoch 47/100\n",
      "111963/111963 [==============================] - 140s 1ms/step - loss: 0.0140 - acc: 0.9959 - val_loss: 0.7443 - val_acc: 0.9138\n",
      "Epoch 48/100\n",
      "111963/111963 [==============================] - 140s 1ms/step - loss: 0.0169 - acc: 0.9951 - val_loss: 0.7821 - val_acc: 0.9088\n",
      "Epoch 49/100\n",
      "111963/111963 [==============================] - 140s 1ms/step - loss: 0.0140 - acc: 0.9961 - val_loss: 0.7451 - val_acc: 0.9146\n",
      "Epoch 50/100\n",
      "111963/111963 [==============================] - 140s 1ms/step - loss: 0.0126 - acc: 0.9963 - val_loss: 0.7484 - val_acc: 0.9158\n",
      "Epoch 51/100\n",
      "111963/111963 [==============================] - 141s 1ms/step - loss: 0.0158 - acc: 0.9956 - val_loss: 0.7919 - val_acc: 0.9116\n"
     ]
    }
   ],
   "source": [
    "history = model.fit(train_vectors, train_cat_labels, callbacks=callbacks, epochs=100, validation_split=0.10, shuffle=True, batch_size=50)"
   ]
  },
  {
   "cell_type": "markdown",
   "metadata": {},
   "source": [
    "Validation accuracy:"
   ]
  },
  {
   "cell_type": "code",
   "execution_count": null,
   "metadata": {},
   "outputs": [],
   "source": [
    "max(history.history[\"val_acc\"])"
   ]
  },
  {
   "cell_type": "code",
   "execution_count": 52,
   "metadata": {
    "scrolled": true
   },
   "outputs": [
    {
     "data": {
      "image/png": "[encoded data removed]",
      "text/plain": [
       "<matplotlib.figure.Figure at 0x222ee3aee48>"
      ]
     },
     "metadata": {},
     "output_type": "display_data"
    }
   ],
   "source": [
    "h = {\"val_acc\": history.history[\"val_acc\"], \"epoch\": history.epoch}\n",
    "\n",
    "sns.pointplot(x=\"epoch\", y=\"val_acc\", data=pd.DataFrame.from_dict(h));"
   ]
  },
  {
   "cell_type": "markdown",
   "metadata": {},
   "source": [
    "Test loss and accuracy:"
   ]
  },
  {
   "cell_type": "code",
   "execution_count": 53,
   "metadata": {},
   "outputs": [
    {
     "name": "stdout",
     "output_type": "stream",
     "text": [
      "17653/17653 [==============================] - 2s 136us/step\n"
     ]
    },
    {
     "data": {
      "text/plain": [
       "[5.08904990075918, 0.45799580808638823]"
      ]
     },
     "execution_count": 53,
     "metadata": {},
     "output_type": "execute_result"
    }
   ],
   "source": [
    "model.evaluate(test_vectors, test_cat_labels)"
   ]
  },
  {
   "cell_type": "code",
   "execution_count": 54,
   "metadata": {},
   "outputs": [],
   "source": [
    "del model\n",
    "gc.collect()\n",
    "K.clear_session()"
   ]
  },
  {
   "cell_type": "code",
   "execution_count": 55,
   "metadata": {},
   "outputs": [],
   "source": [
    "K.clear_session()"
   ]
  },
  {
   "cell_type": "markdown",
   "metadata": {},
   "source": [
    "# Results and discussion"
   ]
  },
  {
   "cell_type": "markdown",
   "metadata": {},
   "source": [
    "The performance of 3 models is evaluated and compared.\n",
    "\n",
    "In the setup of this experiment, a SVM with stemming and stop-word removal performs better than the other models.\n",
    "\n",
    "It is statistical significant that CNN performs worse than SVMs in these setup conditions."
   ]
  },
  {
   "cell_type": "code",
   "execution_count": 56,
   "metadata": {},
   "outputs": [],
   "source": [
    "import scipy.stats as st"
   ]
  },
  {
   "cell_type": "code",
   "execution_count": 57,
   "metadata": {},
   "outputs": [],
   "source": [
    "NUM_MODELS = 20\n",
    "P = 0.05\n",
    "results_array = []"
   ]
  },
  {
   "cell_type": "markdown",
   "metadata": {},
   "source": [
    "### Evaluating TF-IDF w/ tok+pos+stem"
   ]
  },
  {
   "cell_type": "code",
   "execution_count": 58,
   "metadata": {},
   "outputs": [],
   "source": [
    "# dataset for tfidf+tok+pos+stem\n",
    "train_data = df_train.as_matrix(columns=[\"all_tok_pos_stem\"])[:,0]\n",
    "train_labels = df_train.as_matrix(columns=[\"labelmax\"])[:,0]\n",
    "test_data = df_test.as_matrix(columns=[\"all_tok_pos_stem\"])[:,0]\n",
    "test_labels = list(df_test.labelmax)"
   ]
  },
  {
   "cell_type": "code",
   "execution_count": 59,
   "metadata": {},
   "outputs": [],
   "source": [
    "for _ in range(0, 1):\n",
    "    clf = tfidf()\n",
    "    clf.fit(train_data, train_labels);\n",
    "    predictions = clf.predict(test_data)\n",
    "    accuracy = accuracy_score(test_labels, predictions, normalize=True)\n",
    "    result = {\"model\": \"tfidf+tok+pos+stem\", \"acc\": accuracy}\n",
    "    results_array.append(result)"
   ]
  },
  {
   "cell_type": "markdown",
   "metadata": {},
   "source": [
    "### Evaluating TF-IDF w/ tok+stem+stop"
   ]
  },
  {
   "cell_type": "code",
   "execution_count": 60,
   "metadata": {},
   "outputs": [],
   "source": [
    "# dataset for tfidf+tok+stem+stop\n",
    "train_data = df_train.as_matrix(columns=[\"all_tok_stem_stop\"])[:,0]\n",
    "train_labels = df_train.as_matrix(columns=[\"labelmax\"])[:,0]\n",
    "test_data = df_test.as_matrix(columns=[\"all_tok_stem_stop\"])[:,0]\n",
    "test_labels = list(df_test.labelmax)"
   ]
  },
  {
   "cell_type": "code",
   "execution_count": 61,
   "metadata": {},
   "outputs": [],
   "source": [
    "for _ in range(0, 1):\n",
    "    clf = tfidf()\n",
    "    clf.fit(train_data, train_labels);\n",
    "    predictions = clf.predict(test_data)\n",
    "    accuracy = accuracy_score(test_labels, predictions, normalize=True)\n",
    "    result = {\"model\": \"tfidf+tok+stem+stop\", \"acc\": accuracy}\n",
    "    results_array.append(result)"
   ]
  },
  {
   "cell_type": "markdown",
   "metadata": {},
   "source": [
    "### Evaluating CNN"
   ]
  },
  {
   "cell_type": "code",
   "execution_count": 62,
   "metadata": {},
   "outputs": [
    {
     "name": "stdout",
     "output_type": "stream",
     "text": [
      "17653/17653 [==============================] - 2s 134us/step\n",
      "17653/17653 [==============================] - 2s 130us/step\n",
      "17653/17653 [==============================] - 2s 129us/step\n",
      "17653/17653 [==============================] - 2s 132us/step\n",
      "17653/17653 [==============================] - 2s 130us/step\n",
      "17653/17653 [==============================] - 2s 133us/step\n",
      "17653/17653 [==============================] - 2s 128us/step\n",
      "17653/17653 [==============================] - 2s 129us/step\n",
      "17653/17653 [==============================] - 2s 134us/step\n",
      "17653/17653 [==============================] - 2s 129us/step\n"
     ]
    }
   ],
   "source": [
    "for _ in range(0, 20):\n",
    "    model = convnet(weights, SEQUENCE_DIM, CLASSES_DIM, DROPOUT)\n",
    "    model.compile(optimizer=Adam(lr=1e-4, epsilon=1e-08), loss='categorical_crossentropy', metrics=['accuracy'])\n",
    "    model.fit(train_vectors, train_cat_labels, epochs=10, validation_split=0.10, shuffle=True, batch_size=50, verbose=0)\n",
    "    \n",
    "    accuracy = model.evaluate(test_vectors, test_cat_labels)[1];\n",
    "    result = {\"model\": \"cnn\", \"acc\": accuracy}\n",
    "    results_array.append(result)\n",
    "    del model\n",
    "    gc.collect()\n",
    "    K.clear_session()"
   ]
  },
  {
   "cell_type": "code",
   "execution_count": 63,
   "metadata": {},
   "outputs": [
    {
     "data": {
      "text/plain": [
       "<matplotlib.axes._subplots.AxesSubplot at 0x22319f16048>"
      ]
     },
     "execution_count": 63,
     "metadata": {},
     "output_type": "execute_result"
    },
    {
     "data": {
      "image/png": "[encoded data removed]",
      "text/plain": [
       "<matplotlib.figure.Figure at 0x222ee1d87f0>"
      ]
     },
     "metadata": {},
     "output_type": "display_data"
    }
   ],
   "source": [
    "sns.boxplot(x=\"model\", y=\"acc\", data=pd.DataFrame.from_dict(results_array), palette=\"PRGn\")"
   ]
  },
  {
   "cell_type": "code",
   "execution_count": 64,
   "metadata": {},
   "outputs": [],
   "source": [
    "gc.collect();"
   ]
  },
  {
   "cell_type": "markdown",
   "metadata": {},
   "source": [
    "### Statistical significance"
   ]
  },
  {
   "cell_type": "code",
   "execution_count": 65,
   "metadata": {},
   "outputs": [
    {
     "data": {
      "text/plain": [
       "[0.5654562963802187]"
      ]
     },
     "execution_count": 65,
     "metadata": {},
     "output_type": "execute_result"
    }
   ],
   "source": [
    "[result[\"acc\"] for result in results_array if result[\"model\"] == \"tfidf+tok+pos+stem\"]"
   ]
  },
  {
   "cell_type": "code",
   "execution_count": 66,
   "metadata": {},
   "outputs": [
    {
     "data": {
      "text/plain": [
       "[0.5860193734775959]"
      ]
     },
     "execution_count": 66,
     "metadata": {},
     "output_type": "execute_result"
    }
   ],
   "source": [
    "[result[\"acc\"] for result in results_array if result[\"model\"] == \"tfidf+tok+stem+stop\"]"
   ]
  },
  {
   "cell_type": "code",
   "execution_count": 67,
   "metadata": {},
   "outputs": [
    {
     "data": {
      "text/plain": [
       "(0.44401433132061807, 0.45429190561676647)"
      ]
     },
     "execution_count": 67,
     "metadata": {},
     "output_type": "execute_result"
    }
   ],
   "source": [
    "distr = [result[\"acc\"] for result in results_array if result[\"model\"] == \"cnn\"]\n",
    "st.t.interval(0.95, len(distr) - 1, loc=np.mean(distr), scale=st.sem(distr))"
   ]
  },
  {
   "cell_type": "code",
   "execution_count": null,
   "metadata": {},
   "outputs": [],
   "source": []
  }
 ],
 "metadata": {
  "kernelspec": {
   "display_name": "Python 3",
   "language": "python",
   "name": "python3"
  },
  "language_info": {
   "codemirror_mode": {
    "name": "ipython",
    "version": 3
   },
   "file_extension": ".py",
   "mimetype": "text/x-python",
   "name": "python",
   "nbconvert_exporter": "python",
   "pygments_lexer": "ipython3",
   "version": "3.6.2"
  }
 },
 "nbformat": 4,
 "nbformat_minor": 2
}
